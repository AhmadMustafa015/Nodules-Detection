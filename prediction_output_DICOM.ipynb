{
 "cells": [
  {
   "cell_type": "code",
   "execution_count": 1,
   "metadata": {},
   "outputs": [
    {
     "name": "stdout",
     "output_type": "stream",
     "text": [
      "Computer:  DESKTOP-5Q4EG11\n"
     ]
    }
   ],
   "source": [
    "import settings\n",
    "import helpers\n",
    "import sys\n",
    "import os\n",
    "import glob\n",
    "import random\n",
    "import pandas\n",
    "import ntpath\n",
    "import cv2\n",
    "import numpy as np\n",
    "from tensorflow.keras import backend as K\n",
    "import math\n",
    "import pydicom as dicom\n",
    "from PIL import Image, ImageDraw"
   ]
  },
  {
   "cell_type": "code",
   "execution_count": 2,
   "metadata": {},
   "outputs": [],
   "source": [
    "import tensorflow as tf\n",
    "from tensorflow.compat.v1.keras.backend import set_session\n",
    "import Train\n",
    "config = tf.compat.v1.ConfigProto()\n",
    "config.gpu_options.per_process_gpu_memory_fraction = 0.5\n",
    "set_session(tf.compat.v1.Session(config=config))"
   ]
  },
  {
   "cell_type": "code",
   "execution_count": 3,
   "metadata": {},
   "outputs": [
    {
     "data": {
      "text/html": [
       "<div>\n",
       "<style scoped>\n",
       "    .dataframe tbody tr th:only-of-type {\n",
       "        vertical-align: middle;\n",
       "    }\n",
       "\n",
       "    .dataframe tbody tr th {\n",
       "        vertical-align: top;\n",
       "    }\n",
       "\n",
       "    .dataframe thead th {\n",
       "        text-align: right;\n",
       "    }\n",
       "</style>\n",
       "<table border=\"1\" class=\"dataframe\">\n",
       "  <thead>\n",
       "    <tr style=\"text-align: right;\">\n",
       "      <th></th>\n",
       "      <th>anno_index</th>\n",
       "      <th>coord_x</th>\n",
       "      <th>coord_y</th>\n",
       "      <th>coord_z</th>\n",
       "      <th>nodule_chance</th>\n",
       "      <th>status</th>\n",
       "    </tr>\n",
       "  </thead>\n",
       "  <tbody>\n",
       "    <tr>\n",
       "      <th>0</th>\n",
       "      <td>0</td>\n",
       "      <td>0.2316</td>\n",
       "      <td>0.3579</td>\n",
       "      <td>0.5181</td>\n",
       "      <td>0.9527</td>\n",
       "      <td>NaN</td>\n",
       "    </tr>\n",
       "    <tr>\n",
       "      <th>1</th>\n",
       "      <td>1</td>\n",
       "      <td>0.2632</td>\n",
       "      <td>0.3579</td>\n",
       "      <td>0.5181</td>\n",
       "      <td>0.9764</td>\n",
       "      <td>NaN</td>\n",
       "    </tr>\n",
       "    <tr>\n",
       "      <th>2</th>\n",
       "      <td>2</td>\n",
       "      <td>0.2316</td>\n",
       "      <td>0.3895</td>\n",
       "      <td>0.5181</td>\n",
       "      <td>0.8219</td>\n",
       "      <td>NaN</td>\n",
       "    </tr>\n",
       "    <tr>\n",
       "      <th>3</th>\n",
       "      <td>3</td>\n",
       "      <td>0.2632</td>\n",
       "      <td>0.3895</td>\n",
       "      <td>0.5181</td>\n",
       "      <td>0.9233</td>\n",
       "      <td>NaN</td>\n",
       "    </tr>\n",
       "    <tr>\n",
       "      <th>4</th>\n",
       "      <td>4</td>\n",
       "      <td>0.2316</td>\n",
       "      <td>0.3579</td>\n",
       "      <td>0.5542</td>\n",
       "      <td>0.9124</td>\n",
       "      <td>NaN</td>\n",
       "    </tr>\n",
       "  </tbody>\n",
       "</table>\n",
       "</div>"
      ],
      "text/plain": [
       "   anno_index  coord_x  coord_y  coord_z  nodule_chance  status\n",
       "0           0   0.2316   0.3579   0.5181         0.9527     NaN\n",
       "1           1   0.2632   0.3579   0.5181         0.9764     NaN\n",
       "2           2   0.2316   0.3895   0.5181         0.8219     NaN\n",
       "3           3   0.2632   0.3895   0.5181         0.9233     NaN\n",
       "4           4   0.2316   0.3579   0.5542         0.9124     NaN"
      ]
     },
     "execution_count": 3,
     "metadata": {},
     "output_type": "execute_result"
    }
   ],
   "source": [
    "pred_labels = pandas.read_csv('F:/Cengiz/Nodules-Detection/prediction/predictions10_luna16_fs/1.3.6.1.4.1.14519.5.2.1.6279.6001.178391668569567816549737454720.csv')\n",
    "pred_labels.head()"
   ]
  },
  {
   "cell_type": "code",
   "execution_count": 10,
   "metadata": {},
   "outputs": [],
   "source": [
    "def load_patient(src_dir):\n",
    "    # slices = [dicom.read_file(src_dir + '/' + s) for s in os.listdir(src_dir)]\n",
    "    slices = []\n",
    "    print(src_dir)\n",
    "    for files in glob.glob(src_dir + \"/*.dcm\"):\n",
    "        slices.append(dicom.read_file(files))\n",
    "    print(len(slices))\n",
    "    slices.sort(key=lambda x: int(x.InstanceNumber))\n",
    "    try:\n",
    "        slice_thickness = np.abs(slices[0].ImagePositionPatient[2] - slices[1].ImagePositionPatient[2])\n",
    "    except:\n",
    "        slice_thickness = np.abs(slices[0].SliceLocation - slices[1].SliceLocation)\n",
    "    if slice_thickness == 0:\n",
    "        slice_thickness = np.abs(slices[4].ImagePositionPatient[2] - slices[5].ImagePositionPatient[2])\n",
    "    for s in slices:\n",
    "        s.SliceThickness = slice_thickness\n",
    "    return slices\n",
    "def get_pixels_hu(slices):\n",
    "    image = np.stack([s.pixel_array for s in slices])\n",
    "    image = image.astype(float)\n",
    "    for slice_number in range(len(slices)):\n",
    "        intercept = slices[slice_number].RescaleIntercept\n",
    "        slope = slices[slice_number].RescaleSlope\n",
    "        if slope != 1:\n",
    "            image[slice_number] = slope * image[slice_number].astype(np.float64)\n",
    "            image[slice_number] = image[slice_number]\n",
    "        image[slice_number] += intercept\n",
    "\n",
    "    return np.array(image, dtype=np.float64)\n"
   ]
  },
  {
   "cell_type": "code",
   "execution_count": 16,
   "metadata": {},
   "outputs": [
    {
     "name": "stdout",
     "output_type": "stream",
     "text": [
      "D:/LIDC-IDRI/LIDC-IDRI-0070/1.3.6.1.4.1.14519.5.2.1.6279.6001.101493103577576219860121359500/1.3.6.1.4.1.14519.5.2.1.6279.6001.178391668569567816549737454720\n",
      "133\n",
      "[[119, 183, 69], [135, 183, 69], [119, 199, 69], [135, 199, 69], [119, 183, 74], [135, 183, 74], [119, 199, 74], [135, 199, 74], [216, 183, 79], [232, 183, 79], [377, 216, 79], [361, 232, 79], [377, 232, 79], [393, 313, 79], [216, 183, 83], [232, 183, 83], [183, 199, 83], [216, 199, 83], [232, 199, 83], [183, 216, 83], [377, 216, 83], [361, 232, 83], [377, 232, 83], [183, 199, 88], [183, 216, 88], [345, 313, 88], [329, 329, 88], [345, 329, 88], [345, 313, 93], [329, 329, 93], [345, 329, 93], [167, 313, 112], [167, 329, 112], [167, 313, 117], [183, 313, 117], [167, 329, 117], [183, 329, 117]]\n"
     ]
    }
   ],
   "source": [
    "INPUT_DICOM_PATH = 'D:/LIDC-IDRI/LIDC-IDRI-0070/1.3.6.1.4.1.14519.5.2.1.6279.6001.101493103577576219860121359500/1.3.6.1.4.1.14519.5.2.1.6279.6001.178391668569567816549737454720'\n",
    "slices = load_patient(INPUT_DICOM_PATH)\n",
    "pixels = get_pixels_hu(slices)\n",
    "image = pixels\n",
    "shape_image = image.shape\n",
    "nodules_coord = []\n",
    "slices_nod_num = []\n",
    "for index, row in pred_labels.iterrows():\n",
    "    coord_z = row['coord_z'] * shape_image[0]\n",
    "    coord_z = int(round(coord_z))\n",
    "    coord_y = row['coord_y'] * shape_image[2]\n",
    "    coord_y = int(round(coord_y))\n",
    "    coord_x = row['coord_x'] * shape_image[1]\n",
    "    coord_x = int(round(coord_x))\n",
    "    nodules_coord.append([coord_x,coord_y,coord_z])\n",
    "    slices_nod_num.append(coord_z)\n",
    "print(nodules_coord)"
   ]
  },
  {
   "cell_type": "code",
   "execution_count": 27,
   "metadata": {},
   "outputs": [
    {
     "name": "stdout",
     "output_type": "stream",
     "text": [
      "(332, 380, 380)\n",
      "[[88, 136, 172], [100, 136, 172], [88, 148, 172], [100, 148, 172], [88, 136, 184], [100, 136, 184], [88, 148, 184], [100, 148, 184], [160, 136, 196], [172, 136, 196], [280, 160, 196], [268, 172, 196], [280, 172, 196], [292, 232, 196], [160, 136, 208], [172, 136, 208], [136, 148, 208], [160, 148, 208], [172, 148, 208], [136, 160, 208], [280, 160, 208], [268, 172, 208], [280, 172, 208], [136, 148, 220], [136, 160, 220], [256, 232, 220], [244, 244, 220], [256, 244, 220], [256, 232, 232], [244, 244, 232], [256, 244, 232], [124, 232, 280], [124, 244, 280], [124, 232, 292], [136, 232, 292], [124, 244, 292], [136, 244, 292]]\n"
     ]
    }
   ],
   "source": [
    "slices_org_num = []\n",
    "nodules_coord = []\n",
    "patient_id = '1.3.6.1.4.1.14519.5.2.1.6279.6001.178391668569567816549737454720'\n",
    "patient_img = helpers.load_patient_images(patient_id, settings.LIDC_EXTRACTED_IMAGE_DIR, \"*_i.png\", [])\n",
    "print(patient_img.shape)\n",
    "for index, row in pred_labels.iterrows():\n",
    "    p_x,p_y,slice_num = helpers.percentage_to_pixels(row['coord_x'], row['coord_y'], row['coord_z'], patient_img)\n",
    "    nodules_coord.append([p_x,p_y,slice_num])\n",
    "print(nodules_coord)"
   ]
  },
  {
   "cell_type": "code",
   "execution_count": 21,
   "metadata": {},
   "outputs": [
    {
     "name": "stdout",
     "output_type": "stream",
     "text": [
      "(133, 512, 512)\n"
     ]
    }
   ],
   "source": [
    "print(shape_image)"
   ]
  },
  {
   "cell_type": "code",
   "execution_count": 18,
   "metadata": {},
   "outputs": [],
   "source": [
    "def apply_ct_window(img, window):\n",
    "    # window = (window width, window level)\n",
    "    R = (img-window[1]+0.5*window[0])/window[0]\n",
    "    R[R<0] = 0\n",
    "    R[R>1] = 1\n",
    "    return R\n",
    "def normalize(image):\n",
    "    MIN_BOUND = -1000.0\n",
    "    MAX_BOUND = 400.0\n",
    "    image = (image - MIN_BOUND) / (MAX_BOUND - MIN_BOUND)\n",
    "    image[image > 1] = 1.\n",
    "    image[image < 0] = 0.\n",
    "    return image\n",
    "#img = image[0]\n",
    "#print(img.shape)\n",
    "#display_img = apply_ct_window(img, [400,-1000])\n",
    "#display_img = normalize(img)\n",
    "#ds = slices[0]"
   ]
  },
  {
   "cell_type": "code",
   "execution_count": 19,
   "metadata": {},
   "outputs": [],
   "source": [
    "for count,slice_ in enumerate(slices):\n",
    "    #display_img = normalize(img)\n",
    "    pixels = get_pixels_hu([slice_])\n",
    "    image = pixels\n",
    "    img = image[0]\n",
    "    #print(img.shape)\n",
    "    ds = slice_\n",
    "    normalized_image = normalize(img)\n",
    "    if count in slices_nod_num:\n",
    "        for coord in nodules_coord:\n",
    "            if count == coord[2]:\n",
    "                top, left, bottom, right = [coord[1]-15,coord[0]-15,coord[1]+15,coord[0]+15]\n",
    "                #top, left, bottom, right = [211,99,291,158]\n",
    "                thickness = 2\n",
    "                img_bbox = Image.fromarray((255*normalized_image).astype('uint8'))\n",
    "                img_bbox = img_bbox.convert('RGB')\n",
    "                #rect = Image.new ('RGB', img_bbox.size)\n",
    "                draw = ImageDraw.Draw(img_bbox)\n",
    "                for i in range(thickness):\n",
    "                    draw.rectangle(\n",
    "                        [left + i, top + i, right - i, bottom - i],\n",
    "                        outline=(255,0,0,125) #transperency 125 (1255)\n",
    "                    )\n",
    "                del draw\n",
    "                #img_bbox = Image.alpha_composite(img_bbox,rect)\n",
    "                img_bbox = np.asarray(img_bbox)\n",
    "\n",
    "                # modify DICOM tags\n",
    "                ds.PhotometricInterpretation = 'RGB'\n",
    "                ds.SamplesPerPixel = 3\n",
    "                ds.BitsAllocated = 8\n",
    "                ds.BitsStored = 8\n",
    "                ds.HighBit = 7\n",
    "                ds.SeriesNumber = 50\n",
    "                ds.add_new(0x00280006, 'US', 0)\n",
    "                ds.is_little_endian = True\n",
    "                ds.fix_meta_info()\n",
    "\n",
    "                # save pixel data and dicom file\n",
    "                ds.PixelData = img_bbox.tobytes()\n",
    "                ds.save_as('dicom_nodules/'+str(count)+'.dcm')\n",
    "                ds = dicom.read_file('dicom_nodules/'+str(count)+'.dcm')\n",
    "                pixels = get_pixels_hu([ds])\n",
    "                image = pixels\n",
    "                img = image[0]\n",
    "    else:\n",
    "        img_bbox = Image.fromarray((255*normalized_image).astype('uint8'))\n",
    "        img_bbox = img_bbox.convert('RGB')\n",
    "        img_bbox = np.asarray(img_bbox)\n",
    "\n",
    "        # modify DICOM tags\n",
    "        ds.PhotometricInterpretation = 'RGB'\n",
    "        ds.SamplesPerPixel = 3\n",
    "        ds.BitsAllocated = 8\n",
    "        ds.BitsStored = 8\n",
    "        ds.HighBit = 7\n",
    "        ds.SeriesNumber = 50\n",
    "        ds.add_new(0x00280006, 'US', 0)\n",
    "        ds.is_little_endian = True\n",
    "        ds.fix_meta_info()\n",
    "\n",
    "        # save pixel data and dicom file\n",
    "        ds.PixelData = img_bbox.tobytes()\n",
    "        ds.save_as('dicom_nodules/'+str(count)+'.dcm')"
   ]
  },
  {
   "cell_type": "code",
   "execution_count": null,
   "metadata": {},
   "outputs": [],
   "source": [
    "top, left, bottom, right = [211,99,291,158]\n",
    "thickness = 4\n",
    "img_bbox = Image.fromarray((255*display_img).astype('uint8'))\n",
    "img_bbox = img_bbox.convert('RGB')\n",
    "draw = ImageDraw.Draw(img_bbox)\n",
    "for i in range(thickness):\n",
    "    draw.rectangle(\n",
    "        [left + i, top + i, right - i, bottom - i],\n",
    "        outline=(255,0,0)\n",
    "    )\n",
    "del draw\n",
    "img_bbox = np.asarray(img_bbox)\n",
    "\n",
    "# modify DICOM tags\n",
    "ds.PhotometricInterpretation = 'RGB'\n",
    "ds.SamplesPerPixel = 3\n",
    "ds.BitsAllocated = 8\n",
    "ds.BitsStored = 8\n",
    "ds.HighBit = 7\n",
    "ds.add_new(0x00280006, 'US', 0)\n",
    "ds.is_little_endian = True\n",
    "ds.fix_meta_info()\n",
    "\n",
    "# save pixel data and dicom file\n",
    "ds.PixelData = img_bbox.tobytes()\n",
    "ds.save_as('test.dcm')"
   ]
  },
  {
   "cell_type": "code",
   "execution_count": null,
   "metadata": {},
   "outputs": [],
   "source": []
  },
  {
   "cell_type": "code",
   "execution_count": null,
   "metadata": {},
   "outputs": [],
   "source": []
  }
 ],
 "metadata": {
  "kernelspec": {
   "display_name": "Python 3",
   "language": "python",
   "name": "python3"
  },
  "language_info": {
   "codemirror_mode": {
    "name": "ipython",
    "version": 3
   },
   "file_extension": ".py",
   "mimetype": "text/x-python",
   "name": "python",
   "nbconvert_exporter": "python",
   "pygments_lexer": "ipython3",
   "version": "3.7.7"
  }
 },
 "nbformat": 4,
 "nbformat_minor": 4
}
