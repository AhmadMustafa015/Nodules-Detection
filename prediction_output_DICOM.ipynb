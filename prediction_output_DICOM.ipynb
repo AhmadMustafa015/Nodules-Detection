{
 "cells": [
  {
   "cell_type": "code",
   "execution_count": 1,
   "metadata": {
    "pycharm": {
     "is_executing": true,
     "name": "#%%\n"
    }
   },
   "outputs": [
    {
     "name": "stdout",
     "output_type": "stream",
     "text": [
      "Computer:  RANGER-G14\n"
     ]
    }
   ],
   "source": [
    "import settings\n",
    "import helpers\n",
    "import sys\n",
    "import os\n",
    "import glob\n",
    "import random\n",
    "import pandas\n",
    "import ntpath\n",
    "import cv2\n",
    "import numpy as np\n",
    "from tensorflow.keras import backend as K\n",
    "import math\n",
    "import pydicom as dicom\n",
    "from pydicom.encaps import encapsulate\n",
    "from PIL import Image, ImageDraw\n",
    "from pydicom.uid import generate_uid, JPEGExtended\n",
    "from pydicom.dataset import Dataset\n",
    "from pydicom._storage_sopclass_uids import SecondaryCaptureImageStorage\n"
   ]
  },
  {
   "cell_type": "code",
   "execution_count": 2,
   "metadata": {
    "pycharm": {
     "is_executing": true,
     "name": "#%%\n"
    }
   },
   "outputs": [],
   "source": [
    "import tensorflow as tf\n",
    "from tensorflow.compat.v1.keras.backend import set_session\n",
    "import Train\n",
    "config = tf.compat.v1.ConfigProto()\n",
    "config.gpu_options.per_process_gpu_memory_fraction = 0.5\n",
    "set_session(tf.compat.v1.Session(config=config))"
   ]
  },
  {
   "cell_type": "code",
   "execution_count": 3,
   "metadata": {
    "pycharm": {
     "is_executing": true,
     "name": "#%%\n"
    }
   },
   "outputs": [
    {
     "data": {
      "text/html": [
       "<div>\n",
       "<style scoped>\n",
       "    .dataframe tbody tr th:only-of-type {\n",
       "        vertical-align: middle;\n",
       "    }\n",
       "\n",
       "    .dataframe tbody tr th {\n",
       "        vertical-align: top;\n",
       "    }\n",
       "\n",
       "    .dataframe thead th {\n",
       "        text-align: right;\n",
       "    }\n",
       "</style>\n",
       "<table border=\"1\" class=\"dataframe\">\n",
       "  <thead>\n",
       "    <tr style=\"text-align: right;\">\n",
       "      <th></th>\n",
       "      <th>anno_index</th>\n",
       "      <th>coord_x</th>\n",
       "      <th>coord_y</th>\n",
       "      <th>coord_z</th>\n",
       "      <th>nodule_chance</th>\n",
       "      <th>status</th>\n",
       "      <th>nodule_id</th>\n",
       "    </tr>\n",
       "  </thead>\n",
       "  <tbody>\n",
       "    <tr>\n",
       "      <th>0</th>\n",
       "      <td>0</td>\n",
       "      <td>0.31</td>\n",
       "      <td>0.25</td>\n",
       "      <td>0.2013</td>\n",
       "      <td>0.6326</td>\n",
       "      <td>FP</td>\n",
       "      <td>-1</td>\n",
       "    </tr>\n",
       "    <tr>\n",
       "      <th>1</th>\n",
       "      <td>1</td>\n",
       "      <td>0.22</td>\n",
       "      <td>0.34</td>\n",
       "      <td>0.2013</td>\n",
       "      <td>0.6332</td>\n",
       "      <td>FP</td>\n",
       "      <td>-1</td>\n",
       "    </tr>\n",
       "    <tr>\n",
       "      <th>2</th>\n",
       "      <td>2</td>\n",
       "      <td>0.19</td>\n",
       "      <td>0.37</td>\n",
       "      <td>0.2013</td>\n",
       "      <td>0.6302</td>\n",
       "      <td>FP</td>\n",
       "      <td>-1</td>\n",
       "    </tr>\n",
       "    <tr>\n",
       "      <th>3</th>\n",
       "      <td>3</td>\n",
       "      <td>0.22</td>\n",
       "      <td>0.64</td>\n",
       "      <td>0.2013</td>\n",
       "      <td>0.6201</td>\n",
       "      <td>FP</td>\n",
       "      <td>-1</td>\n",
       "    </tr>\n",
       "    <tr>\n",
       "      <th>4</th>\n",
       "      <td>4</td>\n",
       "      <td>0.25</td>\n",
       "      <td>0.34</td>\n",
       "      <td>0.2390</td>\n",
       "      <td>0.6462</td>\n",
       "      <td>FP</td>\n",
       "      <td>-1</td>\n",
       "    </tr>\n",
       "  </tbody>\n",
       "</table>\n",
       "</div>"
      ],
      "text/plain": [
       "   anno_index  coord_x  coord_y  coord_z  nodule_chance status  nodule_id\n",
       "0           0     0.31     0.25   0.2013         0.6326     FP         -1\n",
       "1           1     0.22     0.34   0.2013         0.6332     FP         -1\n",
       "2           2     0.19     0.37   0.2013         0.6302     FP         -1\n",
       "3           3     0.22     0.64   0.2013         0.6201     FP         -1\n",
       "4           4     0.25     0.34   0.2390         0.6462     FP         -1"
      ]
     },
     "execution_count": 3,
     "metadata": {},
     "output_type": "execute_result"
    }
   ],
   "source": [
    "pred_labels = pandas.read_csv('./prediction/predictions10_luna16_fs/1.3.6.1.4.1.14519.5.2.1.6279.6001.176362912420491262783064585333.csv')\n",
    "pred_labels.head()"
   ]
  },
  {
   "cell_type": "code",
   "execution_count": 51,
   "metadata": {
    "collapsed": true,
    "jupyter": {
     "outputs_hidden": true
    },
    "pycharm": {
     "name": "#%%\n"
    },
    "tags": []
   },
   "outputs": [
    {
     "ename": "FileNotFoundError",
     "evalue": "[Errno 2] No such file or directory: 'F:/Cengiz/NoduleNet/results/cross_val_test/res/200/FROC/submission_rcnn.csv'",
     "output_type": "error",
     "traceback": [
      "\u001B[1;31m---------------------------------------------------------------------------\u001B[0m",
      "\u001B[1;31mFileNotFoundError\u001B[0m                         Traceback (most recent call last)",
      "Input \u001B[1;32mIn [51]\u001B[0m, in \u001B[0;36m<module>\u001B[1;34m\u001B[0m\n\u001B[1;32m----> 1\u001B[0m pred_labels \u001B[38;5;241m=\u001B[39m \u001B[43mpandas\u001B[49m\u001B[38;5;241;43m.\u001B[39;49m\u001B[43mread_csv\u001B[49m\u001B[43m(\u001B[49m\u001B[38;5;124;43m'\u001B[39;49m\u001B[38;5;124;43mF:/Cengiz/NoduleNet/results/cross_val_test/res/200/FROC/submission_rcnn.csv\u001B[39;49m\u001B[38;5;124;43m'\u001B[39;49m\u001B[43m)\u001B[49m\n\u001B[0;32m      2\u001B[0m pred_labels\u001B[38;5;241m.\u001B[39mhead()\n",
      "File \u001B[1;32m~\\AppData\\Local\\Programs\\Python\\Python39\\lib\\site-packages\\pandas\\util\\_decorators.py:311\u001B[0m, in \u001B[0;36mdeprecate_nonkeyword_arguments.<locals>.decorate.<locals>.wrapper\u001B[1;34m(*args, **kwargs)\u001B[0m\n\u001B[0;32m    305\u001B[0m \u001B[38;5;28;01mif\u001B[39;00m \u001B[38;5;28mlen\u001B[39m(args) \u001B[38;5;241m>\u001B[39m num_allow_args:\n\u001B[0;32m    306\u001B[0m     warnings\u001B[38;5;241m.\u001B[39mwarn(\n\u001B[0;32m    307\u001B[0m         msg\u001B[38;5;241m.\u001B[39mformat(arguments\u001B[38;5;241m=\u001B[39marguments),\n\u001B[0;32m    308\u001B[0m         \u001B[38;5;167;01mFutureWarning\u001B[39;00m,\n\u001B[0;32m    309\u001B[0m         stacklevel\u001B[38;5;241m=\u001B[39mstacklevel,\n\u001B[0;32m    310\u001B[0m     )\n\u001B[1;32m--> 311\u001B[0m \u001B[38;5;28;01mreturn\u001B[39;00m func(\u001B[38;5;241m*\u001B[39margs, \u001B[38;5;241m*\u001B[39m\u001B[38;5;241m*\u001B[39mkwargs)\n",
      "File \u001B[1;32m~\\AppData\\Local\\Programs\\Python\\Python39\\lib\\site-packages\\pandas\\io\\parsers\\readers.py:680\u001B[0m, in \u001B[0;36mread_csv\u001B[1;34m(filepath_or_buffer, sep, delimiter, header, names, index_col, usecols, squeeze, prefix, mangle_dupe_cols, dtype, engine, converters, true_values, false_values, skipinitialspace, skiprows, skipfooter, nrows, na_values, keep_default_na, na_filter, verbose, skip_blank_lines, parse_dates, infer_datetime_format, keep_date_col, date_parser, dayfirst, cache_dates, iterator, chunksize, compression, thousands, decimal, lineterminator, quotechar, quoting, doublequote, escapechar, comment, encoding, encoding_errors, dialect, error_bad_lines, warn_bad_lines, on_bad_lines, delim_whitespace, low_memory, memory_map, float_precision, storage_options)\u001B[0m\n\u001B[0;32m    665\u001B[0m kwds_defaults \u001B[38;5;241m=\u001B[39m _refine_defaults_read(\n\u001B[0;32m    666\u001B[0m     dialect,\n\u001B[0;32m    667\u001B[0m     delimiter,\n\u001B[1;32m   (...)\u001B[0m\n\u001B[0;32m    676\u001B[0m     defaults\u001B[38;5;241m=\u001B[39m{\u001B[38;5;124m\"\u001B[39m\u001B[38;5;124mdelimiter\u001B[39m\u001B[38;5;124m\"\u001B[39m: \u001B[38;5;124m\"\u001B[39m\u001B[38;5;124m,\u001B[39m\u001B[38;5;124m\"\u001B[39m},\n\u001B[0;32m    677\u001B[0m )\n\u001B[0;32m    678\u001B[0m kwds\u001B[38;5;241m.\u001B[39mupdate(kwds_defaults)\n\u001B[1;32m--> 680\u001B[0m \u001B[38;5;28;01mreturn\u001B[39;00m \u001B[43m_read\u001B[49m\u001B[43m(\u001B[49m\u001B[43mfilepath_or_buffer\u001B[49m\u001B[43m,\u001B[49m\u001B[43m \u001B[49m\u001B[43mkwds\u001B[49m\u001B[43m)\u001B[49m\n",
      "File \u001B[1;32m~\\AppData\\Local\\Programs\\Python\\Python39\\lib\\site-packages\\pandas\\io\\parsers\\readers.py:575\u001B[0m, in \u001B[0;36m_read\u001B[1;34m(filepath_or_buffer, kwds)\u001B[0m\n\u001B[0;32m    572\u001B[0m _validate_names(kwds\u001B[38;5;241m.\u001B[39mget(\u001B[38;5;124m\"\u001B[39m\u001B[38;5;124mnames\u001B[39m\u001B[38;5;124m\"\u001B[39m, \u001B[38;5;28;01mNone\u001B[39;00m))\n\u001B[0;32m    574\u001B[0m \u001B[38;5;66;03m# Create the parser.\u001B[39;00m\n\u001B[1;32m--> 575\u001B[0m parser \u001B[38;5;241m=\u001B[39m TextFileReader(filepath_or_buffer, \u001B[38;5;241m*\u001B[39m\u001B[38;5;241m*\u001B[39mkwds)\n\u001B[0;32m    577\u001B[0m \u001B[38;5;28;01mif\u001B[39;00m chunksize \u001B[38;5;129;01mor\u001B[39;00m iterator:\n\u001B[0;32m    578\u001B[0m     \u001B[38;5;28;01mreturn\u001B[39;00m parser\n",
      "File \u001B[1;32m~\\AppData\\Local\\Programs\\Python\\Python39\\lib\\site-packages\\pandas\\io\\parsers\\readers.py:933\u001B[0m, in \u001B[0;36mTextFileReader.__init__\u001B[1;34m(self, f, engine, **kwds)\u001B[0m\n\u001B[0;32m    930\u001B[0m     \u001B[38;5;28mself\u001B[39m\u001B[38;5;241m.\u001B[39moptions[\u001B[38;5;124m\"\u001B[39m\u001B[38;5;124mhas_index_names\u001B[39m\u001B[38;5;124m\"\u001B[39m] \u001B[38;5;241m=\u001B[39m kwds[\u001B[38;5;124m\"\u001B[39m\u001B[38;5;124mhas_index_names\u001B[39m\u001B[38;5;124m\"\u001B[39m]\n\u001B[0;32m    932\u001B[0m \u001B[38;5;28mself\u001B[39m\u001B[38;5;241m.\u001B[39mhandles: IOHandles \u001B[38;5;241m|\u001B[39m \u001B[38;5;28;01mNone\u001B[39;00m \u001B[38;5;241m=\u001B[39m \u001B[38;5;28;01mNone\u001B[39;00m\n\u001B[1;32m--> 933\u001B[0m \u001B[38;5;28mself\u001B[39m\u001B[38;5;241m.\u001B[39m_engine \u001B[38;5;241m=\u001B[39m \u001B[38;5;28;43mself\u001B[39;49m\u001B[38;5;241;43m.\u001B[39;49m\u001B[43m_make_engine\u001B[49m\u001B[43m(\u001B[49m\u001B[43mf\u001B[49m\u001B[43m,\u001B[49m\u001B[43m \u001B[49m\u001B[38;5;28;43mself\u001B[39;49m\u001B[38;5;241;43m.\u001B[39;49m\u001B[43mengine\u001B[49m\u001B[43m)\u001B[49m\n",
      "File \u001B[1;32m~\\AppData\\Local\\Programs\\Python\\Python39\\lib\\site-packages\\pandas\\io\\parsers\\readers.py:1217\u001B[0m, in \u001B[0;36mTextFileReader._make_engine\u001B[1;34m(self, f, engine)\u001B[0m\n\u001B[0;32m   1213\u001B[0m     mode \u001B[38;5;241m=\u001B[39m \u001B[38;5;124m\"\u001B[39m\u001B[38;5;124mrb\u001B[39m\u001B[38;5;124m\"\u001B[39m\n\u001B[0;32m   1214\u001B[0m \u001B[38;5;66;03m# error: No overload variant of \"get_handle\" matches argument types\u001B[39;00m\n\u001B[0;32m   1215\u001B[0m \u001B[38;5;66;03m# \"Union[str, PathLike[str], ReadCsvBuffer[bytes], ReadCsvBuffer[str]]\"\u001B[39;00m\n\u001B[0;32m   1216\u001B[0m \u001B[38;5;66;03m# , \"str\", \"bool\", \"Any\", \"Any\", \"Any\", \"Any\", \"Any\"\u001B[39;00m\n\u001B[1;32m-> 1217\u001B[0m \u001B[38;5;28mself\u001B[39m\u001B[38;5;241m.\u001B[39mhandles \u001B[38;5;241m=\u001B[39m \u001B[43mget_handle\u001B[49m\u001B[43m(\u001B[49m\u001B[43m  \u001B[49m\u001B[38;5;66;43;03m# type: ignore[call-overload]\u001B[39;49;00m\n\u001B[0;32m   1218\u001B[0m \u001B[43m    \u001B[49m\u001B[43mf\u001B[49m\u001B[43m,\u001B[49m\n\u001B[0;32m   1219\u001B[0m \u001B[43m    \u001B[49m\u001B[43mmode\u001B[49m\u001B[43m,\u001B[49m\n\u001B[0;32m   1220\u001B[0m \u001B[43m    \u001B[49m\u001B[43mencoding\u001B[49m\u001B[38;5;241;43m=\u001B[39;49m\u001B[38;5;28;43mself\u001B[39;49m\u001B[38;5;241;43m.\u001B[39;49m\u001B[43moptions\u001B[49m\u001B[38;5;241;43m.\u001B[39;49m\u001B[43mget\u001B[49m\u001B[43m(\u001B[49m\u001B[38;5;124;43m\"\u001B[39;49m\u001B[38;5;124;43mencoding\u001B[39;49m\u001B[38;5;124;43m\"\u001B[39;49m\u001B[43m,\u001B[49m\u001B[43m \u001B[49m\u001B[38;5;28;43;01mNone\u001B[39;49;00m\u001B[43m)\u001B[49m\u001B[43m,\u001B[49m\n\u001B[0;32m   1221\u001B[0m \u001B[43m    \u001B[49m\u001B[43mcompression\u001B[49m\u001B[38;5;241;43m=\u001B[39;49m\u001B[38;5;28;43mself\u001B[39;49m\u001B[38;5;241;43m.\u001B[39;49m\u001B[43moptions\u001B[49m\u001B[38;5;241;43m.\u001B[39;49m\u001B[43mget\u001B[49m\u001B[43m(\u001B[49m\u001B[38;5;124;43m\"\u001B[39;49m\u001B[38;5;124;43mcompression\u001B[39;49m\u001B[38;5;124;43m\"\u001B[39;49m\u001B[43m,\u001B[49m\u001B[43m \u001B[49m\u001B[38;5;28;43;01mNone\u001B[39;49;00m\u001B[43m)\u001B[49m\u001B[43m,\u001B[49m\n\u001B[0;32m   1222\u001B[0m \u001B[43m    \u001B[49m\u001B[43mmemory_map\u001B[49m\u001B[38;5;241;43m=\u001B[39;49m\u001B[38;5;28;43mself\u001B[39;49m\u001B[38;5;241;43m.\u001B[39;49m\u001B[43moptions\u001B[49m\u001B[38;5;241;43m.\u001B[39;49m\u001B[43mget\u001B[49m\u001B[43m(\u001B[49m\u001B[38;5;124;43m\"\u001B[39;49m\u001B[38;5;124;43mmemory_map\u001B[39;49m\u001B[38;5;124;43m\"\u001B[39;49m\u001B[43m,\u001B[49m\u001B[43m \u001B[49m\u001B[38;5;28;43;01mFalse\u001B[39;49;00m\u001B[43m)\u001B[49m\u001B[43m,\u001B[49m\n\u001B[0;32m   1223\u001B[0m \u001B[43m    \u001B[49m\u001B[43mis_text\u001B[49m\u001B[38;5;241;43m=\u001B[39;49m\u001B[43mis_text\u001B[49m\u001B[43m,\u001B[49m\n\u001B[0;32m   1224\u001B[0m \u001B[43m    \u001B[49m\u001B[43merrors\u001B[49m\u001B[38;5;241;43m=\u001B[39;49m\u001B[38;5;28;43mself\u001B[39;49m\u001B[38;5;241;43m.\u001B[39;49m\u001B[43moptions\u001B[49m\u001B[38;5;241;43m.\u001B[39;49m\u001B[43mget\u001B[49m\u001B[43m(\u001B[49m\u001B[38;5;124;43m\"\u001B[39;49m\u001B[38;5;124;43mencoding_errors\u001B[39;49m\u001B[38;5;124;43m\"\u001B[39;49m\u001B[43m,\u001B[49m\u001B[43m \u001B[49m\u001B[38;5;124;43m\"\u001B[39;49m\u001B[38;5;124;43mstrict\u001B[39;49m\u001B[38;5;124;43m\"\u001B[39;49m\u001B[43m)\u001B[49m\u001B[43m,\u001B[49m\n\u001B[0;32m   1225\u001B[0m \u001B[43m    \u001B[49m\u001B[43mstorage_options\u001B[49m\u001B[38;5;241;43m=\u001B[39;49m\u001B[38;5;28;43mself\u001B[39;49m\u001B[38;5;241;43m.\u001B[39;49m\u001B[43moptions\u001B[49m\u001B[38;5;241;43m.\u001B[39;49m\u001B[43mget\u001B[49m\u001B[43m(\u001B[49m\u001B[38;5;124;43m\"\u001B[39;49m\u001B[38;5;124;43mstorage_options\u001B[39;49m\u001B[38;5;124;43m\"\u001B[39;49m\u001B[43m,\u001B[49m\u001B[43m \u001B[49m\u001B[38;5;28;43;01mNone\u001B[39;49;00m\u001B[43m)\u001B[49m\u001B[43m,\u001B[49m\n\u001B[0;32m   1226\u001B[0m \u001B[43m\u001B[49m\u001B[43m)\u001B[49m\n\u001B[0;32m   1227\u001B[0m \u001B[38;5;28;01massert\u001B[39;00m \u001B[38;5;28mself\u001B[39m\u001B[38;5;241m.\u001B[39mhandles \u001B[38;5;129;01mis\u001B[39;00m \u001B[38;5;129;01mnot\u001B[39;00m \u001B[38;5;28;01mNone\u001B[39;00m\n\u001B[0;32m   1228\u001B[0m f \u001B[38;5;241m=\u001B[39m \u001B[38;5;28mself\u001B[39m\u001B[38;5;241m.\u001B[39mhandles\u001B[38;5;241m.\u001B[39mhandle\n",
      "File \u001B[1;32m~\\AppData\\Local\\Programs\\Python\\Python39\\lib\\site-packages\\pandas\\io\\common.py:789\u001B[0m, in \u001B[0;36mget_handle\u001B[1;34m(path_or_buf, mode, encoding, compression, memory_map, is_text, errors, storage_options)\u001B[0m\n\u001B[0;32m    784\u001B[0m \u001B[38;5;28;01melif\u001B[39;00m \u001B[38;5;28misinstance\u001B[39m(handle, \u001B[38;5;28mstr\u001B[39m):\n\u001B[0;32m    785\u001B[0m     \u001B[38;5;66;03m# Check whether the filename is to be opened in binary mode.\u001B[39;00m\n\u001B[0;32m    786\u001B[0m     \u001B[38;5;66;03m# Binary mode does not support 'encoding' and 'newline'.\u001B[39;00m\n\u001B[0;32m    787\u001B[0m     \u001B[38;5;28;01mif\u001B[39;00m ioargs\u001B[38;5;241m.\u001B[39mencoding \u001B[38;5;129;01mand\u001B[39;00m \u001B[38;5;124m\"\u001B[39m\u001B[38;5;124mb\u001B[39m\u001B[38;5;124m\"\u001B[39m \u001B[38;5;129;01mnot\u001B[39;00m \u001B[38;5;129;01min\u001B[39;00m ioargs\u001B[38;5;241m.\u001B[39mmode:\n\u001B[0;32m    788\u001B[0m         \u001B[38;5;66;03m# Encoding\u001B[39;00m\n\u001B[1;32m--> 789\u001B[0m         handle \u001B[38;5;241m=\u001B[39m \u001B[38;5;28;43mopen\u001B[39;49m\u001B[43m(\u001B[49m\n\u001B[0;32m    790\u001B[0m \u001B[43m            \u001B[49m\u001B[43mhandle\u001B[49m\u001B[43m,\u001B[49m\n\u001B[0;32m    791\u001B[0m \u001B[43m            \u001B[49m\u001B[43mioargs\u001B[49m\u001B[38;5;241;43m.\u001B[39;49m\u001B[43mmode\u001B[49m\u001B[43m,\u001B[49m\n\u001B[0;32m    792\u001B[0m \u001B[43m            \u001B[49m\u001B[43mencoding\u001B[49m\u001B[38;5;241;43m=\u001B[39;49m\u001B[43mioargs\u001B[49m\u001B[38;5;241;43m.\u001B[39;49m\u001B[43mencoding\u001B[49m\u001B[43m,\u001B[49m\n\u001B[0;32m    793\u001B[0m \u001B[43m            \u001B[49m\u001B[43merrors\u001B[49m\u001B[38;5;241;43m=\u001B[39;49m\u001B[43merrors\u001B[49m\u001B[43m,\u001B[49m\n\u001B[0;32m    794\u001B[0m \u001B[43m            \u001B[49m\u001B[43mnewline\u001B[49m\u001B[38;5;241;43m=\u001B[39;49m\u001B[38;5;124;43m\"\u001B[39;49m\u001B[38;5;124;43m\"\u001B[39;49m\u001B[43m,\u001B[49m\n\u001B[0;32m    795\u001B[0m \u001B[43m        \u001B[49m\u001B[43m)\u001B[49m\n\u001B[0;32m    796\u001B[0m     \u001B[38;5;28;01melse\u001B[39;00m:\n\u001B[0;32m    797\u001B[0m         \u001B[38;5;66;03m# Binary mode\u001B[39;00m\n\u001B[0;32m    798\u001B[0m         handle \u001B[38;5;241m=\u001B[39m \u001B[38;5;28mopen\u001B[39m(handle, ioargs\u001B[38;5;241m.\u001B[39mmode)\n",
      "\u001B[1;31mFileNotFoundError\u001B[0m: [Errno 2] No such file or directory: 'F:/Cengiz/NoduleNet/results/cross_val_test/res/200/FROC/submission_rcnn.csv'"
     ]
    }
   ],
   "source": [
    "pred_labels = pandas.read_csv('F:/Cengiz/NoduleNet/results/cross_val_test/res/200/FROC/submission_rcnn.csv')\n",
    "pred_labels.head()"
   ]
  },
  {
   "cell_type": "code",
   "execution_count": 4,
   "metadata": {
    "pycharm": {
     "is_executing": true,
     "name": "#%%\n"
    },
    "tags": []
   },
   "outputs": [],
   "source": [
    "def load_patient(src_dir):\n",
    "    # slices = [dicom.read_file(src_dir + '/' + s) for s in os.listdir(src_dir)]\n",
    "    slices = []\n",
    "    print(src_dir)\n",
    "    for files in glob.glob(src_dir + \"/*.dcm\"):\n",
    "        slices.append(dicom.read_file(files))\n",
    "    print(len(slices))\n",
    "    slices.sort(key=lambda x: int(x.InstanceNumber))\n",
    "    try:\n",
    "        slice_thickness = np.abs(slices[0].ImagePositionPatient[2] - slices[1].ImagePositionPatient[2])\n",
    "    except:\n",
    "        #print(len(slices))\n",
    "        slice_thickness = np.abs(slices[5].SliceLocation - slices[6].SliceLocation)\n",
    "    if slice_thickness == 0:\n",
    "        slice_thickness = np.abs(slices[4].ImagePositionPatient[2] - slices[5].ImagePositionPatient[2])\n",
    "    for s in slices:\n",
    "        s.SliceThickness = slice_thickness\n",
    "    return slices\n",
    "def get_pixels_hu(slices):\n",
    "    image = np.stack([s.pixel_array for s in slices])\n",
    "    image = image.astype(float)\n",
    "    for slice_number in range(len(slices)):\n",
    "        intercept = slices[slice_number].RescaleIntercept\n",
    "        slope = slices[slice_number].RescaleSlope\n",
    "        if slope != 1:\n",
    "            image[slice_number] = slope * image[slice_number].astype(np.float64)\n",
    "            image[slice_number] = image[slice_number]\n",
    "        image[slice_number] += intercept\n",
    "\n",
    "    return np.array(image, dtype=np.float64)\n"
   ]
  },
  {
   "cell_type": "code",
   "execution_count": 5,
   "metadata": {
    "pycharm": {
     "is_executing": true,
     "name": "#%%\n"
    }
   },
   "outputs": [
    {
     "name": "stdout",
     "output_type": "stream",
     "text": [
      "./1.3.6.1.4.1.14519.5.2.1.6279.6001.176362912420491262783064585333\n",
      "127\n",
      "Invert order:  False  -  -24.500000 , -22.000000\n",
      "Slice thik:  2.5\n",
      "[[159, 128, 26], [113, 174, 26], [97, 189, 26], [113, 328, 26], [128, 174, 30], [113, 189, 30], [97, 251, 30], [389, 312, 30], [236, 143, 35], [174, 159, 35], [236, 159, 35], [143, 174, 35], [128, 189, 35], [113, 220, 35], [404, 251, 35], [189, 266, 35], [174, 282, 35], [128, 297, 35], [159, 297, 35], [389, 297, 35], [358, 312, 35], [374, 312, 35], [174, 189, 40], [189, 189, 40], [205, 189, 40], [220, 189, 40], [236, 189, 40], [143, 205, 40], [205, 236, 40], [174, 251, 40], [374, 266, 40], [374, 282, 40], [420, 266, 45], [389, 297, 45], [297, 205, 50], [404, 266, 50], [420, 266, 50], [236, 189, 54], [297, 143, 59], [266, 159, 59], [312, 159, 59], [282, 159, 64], [297, 174, 64], [282, 174, 69], [374, 266, 69], [374, 282, 69], [374, 266, 73], [143, 282, 73], [374, 282, 73], [143, 374, 73], [97, 312, 78], [113, 312, 78], [143, 374, 78], [143, 389, 78], [97, 312, 83], [113, 312, 83], [113, 328, 83], [143, 220, 97], [143, 236, 97], [159, 236, 97], [343, 343, 97], [343, 358, 97], [143, 220, 102], [159, 220, 102], [143, 236, 102], [159, 236, 102], [374, 297, 102], [343, 328, 102], [358, 328, 102], [343, 343, 102], [343, 358, 102], [159, 251, 107], [159, 266, 107], [358, 297, 107], [374, 297, 107], [358, 328, 107]]\n"
     ]
    }
   ],
   "source": [
    "INPUT_DICOM_PATH = './1.3.6.1.4.1.14519.5.2.1.6279.6001.176362912420491262783064585333'\n",
    "slices = load_patient(INPUT_DICOM_PATH)\n",
    "pixels = get_pixels_hu(slices)\n",
    "image = pixels\n",
    "invert_order = slices[1].ImagePositionPatient[2] > slices[0].ImagePositionPatient[2]\n",
    "print(\"Invert order: \", invert_order, \" - \", slices[1].ImagePositionPatient[2], \",\",\n",
    "      slices[0].ImagePositionPatient[2])\n",
    "# TODO: Standarize and normalize data\n",
    "pixel_spacing = slices[0].PixelSpacing\n",
    "pixel_spacing.append(slices[0].SliceThickness)\n",
    "print(\"Slice thik: \", slices[0].SliceThickness)\n",
    "#print(\"Dir Path: \", dir_path)\n",
    "#image = helpers.rescale_patient_images(image, pixel_spacing, 1.00)\n",
    "if not invert_order:\n",
    "    image = np.flipud(image)\n",
    "segmentation = False\n",
    "shape_image = image.shape\n",
    "nodules_coord = []\n",
    "slices_nod_num = []\n",
    "#(326, 231, 318)\n",
    "for index, row in pred_labels.iterrows():\n",
    "    if segmentation:\n",
    "        coord_z = (row['coord_z']*333) * shape_image[0]\n",
    "        coord_z = int(round(coord_z))\n",
    "        coord_y = (row['coord_y']*366) * shape_image[2]\n",
    "        coord_y = int(round(coord_y))\n",
    "        coord_x = (row['coord_x']*366) * shape_image[1]\n",
    "        coord_x = int(round(coord_x))\n",
    "        diameter = row['diameter_mm']\n",
    "        diameter = int(round(diameter))\n",
    "        nodules_coord.append([coord_x,coord_y,coord_z,diameter])\n",
    "        slices_nod_num.append(coord_z)\n",
    "    else:      \n",
    "        coord_z = row['coord_z'] * shape_image[0]\n",
    "        coord_z = int(round(coord_z))\n",
    "        coord_y = row['coord_y'] * shape_image[2]\n",
    "        coord_y = int(round(coord_y))\n",
    "        coord_x = row['coord_x'] * shape_image[1]\n",
    "        coord_x = int(round(coord_x))\n",
    "        nodules_coord.append([coord_x,coord_y,coord_z])\n",
    "        slices_nod_num.append(coord_z)\n",
    "print(nodules_coord)\n",
    "#nodules_coord = post_process_coord\n",
    "slices_nod_num = []\n",
    "for row in nodules_coord:\n",
    "    slices_nod_num.append(row[2])"
   ]
  },
  {
   "cell_type": "code",
   "execution_count": 23,
   "metadata": {
    "pycharm": {
     "is_executing": true,
     "name": "#%%\n"
    }
   },
   "outputs": [
    {
     "name": "stdout",
     "output_type": "stream",
     "text": [
      "(318, 400, 400)\n",
      "[[124, 100, 64], [88, 136, 64], [76, 148, 64], [88, 256, 64], [100, 136, 76], [88, 148, 76], [76, 196, 76], [304, 244, 76], [184, 112, 88], [136, 124, 88], [184, 124, 88], [112, 136, 88], [100, 148, 88], [88, 172, 88], [316, 196, 88], [148, 208, 88], [136, 220, 88], [100, 232, 88], [124, 232, 88], [304, 232, 88], [280, 244, 88], [292, 244, 88], [136, 148, 100], [148, 148, 100], [160, 148, 100], [172, 148, 100], [184, 148, 100], [112, 160, 100], [160, 184, 100], [136, 196, 100], [292, 208, 100], [292, 220, 100], [328, 208, 112], [304, 232, 112], [232, 160, 124], [316, 208, 124], [328, 208, 124], [184, 148, 136], [232, 112, 148], [208, 124, 148], [244, 124, 148], [220, 124, 160], [232, 136, 160], [220, 136, 172], [292, 208, 172], [292, 220, 172], [292, 208, 184], [112, 220, 184], [292, 220, 184], [112, 292, 184], [76, 244, 196], [88, 244, 196], [112, 292, 196], [112, 304, 196], [76, 244, 208], [88, 244, 208], [88, 256, 208], [112, 172, 244], [112, 184, 244], [124, 184, 244], [268, 268, 244], [268, 280, 244], [112, 172, 256], [124, 172, 256], [112, 184, 256], [124, 184, 256], [292, 232, 256], [268, 256, 256], [280, 256, 256], [268, 268, 256], [268, 280, 256], [124, 196, 268], [124, 208, 268], [280, 232, 268], [292, 232, 268], [280, 256, 268]]\n"
     ]
    }
   ],
   "source": [
    "slices_org_num = []\n",
    "nodules_coord = []\n",
    "patient_id = '1.3.6.1.4.1.14519.5.2.1.6279.6001.176362912420491262783064585333'\n",
    "patient_img = helpers.load_patient_images(patient_id, 'C:/Users/ahmad/Projects/Radiologics/Nodules-Detection/png/', \"*_i.png\", [])\n",
    "print(patient_img.shape)\n",
    "for index, row in pred_labels.iterrows():\n",
    "    p_x,p_y,slice_num = helpers.percentage_to_pixels(row['coord_x'], row['coord_y'], row['coord_z'], patient_img)\n",
    "    nodules_coord.append([p_x,p_y,slice_num])\n",
    "    slices_org_num.append(slice_num)\n",
    "#nodules_coord = post_process_coord\n",
    "print(nodules_coord)\n",
    "slices_nod_num = []\n",
    "for row in nodules_coord:\n",
    "    if row[2] < 40:\n",
    "        continue\n",
    "    slices_nod_num.append(row[2])"
   ]
  },
  {
   "cell_type": "code",
   "execution_count": 24,
   "metadata": {
    "pycharm": {
     "name": "#%%\n"
    }
   },
   "outputs": [
    {
     "name": "stdout",
     "output_type": "stream",
     "text": [
      "(127, 512, 512)\n",
      "[64, 64, 64, 64, 76, 76, 76, 76, 88, 88, 88, 88, 88, 88, 88, 88, 88, 88, 88, 88, 88, 88, 100, 100, 100, 100, 100, 100, 100, 100, 100, 100, 112, 112, 124, 124, 124, 136, 148, 148, 148, 160, 160, 172, 172, 172, 184, 184, 184, 184, 196, 196, 196, 196, 208, 208, 208, 244, 244, 244, 244, 244, 256, 256, 256, 256, 256, 256, 256, 256, 256, 268, 268, 268, 268, 268]\n"
     ]
    }
   ],
   "source": [
    "print(shape_image)\n",
    "HEIGHT = 512\n",
    "WIDTH = 512\n",
    "print(slices_nod_num)"
   ]
  },
  {
   "cell_type": "code",
   "execution_count": 25,
   "metadata": {
    "pycharm": {
     "name": "#%%\n"
    }
   },
   "outputs": [],
   "source": [
    "def apply_ct_window(img, window):\n",
    "    # window = (window width, window level)\n",
    "    R = (img-window[1]+0.5*window[0])/window[0]\n",
    "    R[R<0] = 0\n",
    "    R[R>1] = 1\n",
    "    return R\n",
    "def normalize(image):\n",
    "    MIN_BOUND = -1000.0\n",
    "    MAX_BOUND = 400.0\n",
    "    image = (image - MIN_BOUND) / (MAX_BOUND - MIN_BOUND)\n",
    "    image[image > 1] = 1.\n",
    "    image[image < 0] = 0.\n",
    "    return image\n",
    "#img = image[0]\n",
    "#print(img.shape)\n",
    "#display_img = apply_ct_window(img, [400,-1000])\n",
    "#display_img = normalize(img)\n",
    "#ds = slices[0]\n",
    "def ensure_even(stream):\n",
    "    # Very important for some viewers\n",
    "    if len(stream) % 2:\n",
    "        return stream + b\"\\x00\"\n",
    "    return stream"
   ]
  },
  {
   "cell_type": "code",
   "execution_count": null,
   "outputs": [],
   "source": [
    "series_id = series_uid()\n",
    "for count in range(image.shape[0]):\n",
    "    #display_img = normalize(img)\n",
    "    #pixels = get_pixels_hu([slice_])\n",
    "    #image = patient_img[slice_]\n",
    "    #img = image[0]\n",
    "    #print(img.shape)\n",
    "    #ds = slices[count]\n",
    "    if not invert_order:\n",
    "        save_count = image.shape[0] - count\n",
    "    ds = slices[save_count-1]\n",
    "    normalized_image = normalize(image[count])\n",
    "    if count in slices_nod_num: #and count==69:\n",
    "        for coord in nodules_coord:\n",
    "            if count == coord[2]:\n",
    "                if segmentation:\n",
    "                    top, left, bottom, right = [coord[1]-coord[3]/2,coord[0]-coord[3]/2,coord[1]+coord[3]/2,coord[0]+coord[3]/2]\n",
    "                else:\n",
    "                    top, left, bottom, right = [coord[1]-16,coord[0]-16,coord[1]+16,coord[0]+16]\n",
    "                #top, left, bottom, right = [211,99,291,158]\n",
    "                thickness = 2\n",
    "                img_bbox = Image.fromarray((255*normalized_image).astype('uint8'))\n",
    "                #img_bbox = Image.fromarray(normalized_image)\n",
    "                img_bbox = img_bbox.convert('RGB')\n",
    "                #rect = Image.new ('RGB', img_bbox.size)\n",
    "                draw = ImageDraw.Draw(img_bbox)\n",
    "                for i in range(thickness):\n",
    "                    draw.rectangle(\n",
    "                        [left + i, top + i, right - i, bottom - i],\n",
    "                        outline=(255,0,0) #transperency 125 (1255)\n",
    "                    )\n",
    "                del draw\n",
    "                #print(count)\n",
    "                #img_bbox = Image.alpha_composite(img_bbox,rect)\n",
    "                img_bbox = np.asarray(img_bbox)\n",
    "                normalized_image = img_bbox/255.0\n",
    "                # modify DICOM tags\n",
    "                \n",
    "                ds.PhotometricInterpretation = 'RGB'\n",
    "                ds.SamplesPerPixel = 3\n",
    "                ds.BitsAllocated = 8\n",
    "                ds.BitsStored = 8\n",
    "                ds.HighBit = 7\n",
    "                ds.SeriesNumber = 53\n",
    "                #ds.add_new(0x00280006, 'US', 0)\n",
    "                ds.is_little_endian = True\n",
    "                #ds.SliceLocation = str(save_count)\n",
    "                ds.InstanceNumber = str(save_count)\n",
    "                ds.is_implicit_VR = True\n",
    "                #ds.Modality = \"OT\"\n",
    "                ds.SOPInstanceUID = generate_uid()\n",
    "                ds.RescaleType = 'HU'\n",
    "                ds.PlanarConfiguration = 0\n",
    "                ds.ConversionType = 'DRW'\n",
    "                ds.Rows = HEIGHT\n",
    "                ds.Columns = WIDTH\n",
    "                ds.PixelRepresentation = 0\n",
    "               # ds.AcquisitionNumber = '9'\n",
    "                ds.SeriesInstanceUID = series_id\n",
    "                #ds.StudyInstanceUID = '1.3.6.1.4.1.14519.5.2.1.6279.6001.101493103577576219860121359500'\n",
    "\n",
    "                ds.SOPClassUID = SecondaryCaptureImageStorage\n",
    "\n",
    "                ds.fix_meta_info()\n",
    "                #ds.fix_meta_info()\n",
    "                \n",
    "                # save pixel data and dicom file\n",
    "                ds.PixelData = encapsulate([ensure_even(img_bbox.tobytes())])\n",
    "                ds.save_as('2022_samples/'+str(save_count)+'.dcm')\n",
    "                #ds = dicom.read_file('dicom_nodules/'+str(save_count)+'.dcm',force=True)\n",
    "                #pixels = get_pixels_hu([ds])\n",
    "                #image = pixels\n",
    "                #img = image[0]\n",
    "    else:\n",
    "        img_bbox = Image.fromarray((255*normalized_image).astype('uint8'))\n",
    "        img_bbox = img_bbox.convert('RGB')\n",
    "        img_bbox = np.asarray(img_bbox)\n",
    "\n",
    "        # modify DICOM tags\n",
    "        ds.PhotometricInterpretation = 'RGB'\n",
    "        ds.SamplesPerPixel = 3\n",
    "        ds.BitsAllocated = 8\n",
    "        ds.BitsStored = 8\n",
    "        ds.HighBit = 7\n",
    "        ds.SeriesNumber = 53\n",
    "        ds.is_implicit_VR = True\n",
    "        #ds.add_new(0x00280006, 'US', 0)\n",
    "        ds.is_little_endian = True\n",
    "        ds.InstanceNumber = str(save_count)\n",
    "        ds.SOPInstanceUID = generate_uid()\n",
    "        ds.Rows = HEIGHT\n",
    "        ds.Columns = WIDTH\n",
    "        ds.PixelRepresentation = 0\n",
    "        ds.SeriesInstanceUID = series_id\n",
    "        ds.RescaleType = 'HU'\n",
    "        ds.ConversionType = 'DRW'\n",
    "        ds.PlanarConfiguration = 0\n",
    "        #ds.AcquisitionNumber = '2'\n",
    "        #ds.SeriesInstanceUID = '5'\n",
    "        #ds.StudyInstanceUID = '1.3.6.1.4.1.14519.5.2.1.6279.6001.101493103577576219860121359500'\n",
    "        #ds.SeriesInstanceUID = '1.3.6.1.4.1.14519.5.2.1.6279.6001.1763629124204912627830645853331'\n",
    "\n",
    "        ds.SOPClassUID = SecondaryCaptureImageStorage\n",
    "        ds.fix_meta_info()\n",
    "        #ds.fix_meta_info()\n",
    "\n",
    "        # save pixel data and dicom file\n",
    "        ds.PixelData = encapsulate([ensure_even(img_bbox.tobytes())])\n",
    "        ds.save_as('2022_samples/'+str(save_count)+'.dcm')"
   ],
   "metadata": {
    "collapsed": false,
    "pycharm": {
     "name": "#%%\n"
    }
   }
  },
  {
   "cell_type": "code",
   "execution_count": null,
   "outputs": [],
   "source": [
    "seriInstance = '10001'\n",
    "sopInstance = '20001'\n",
    "\n",
    "def series_uid():\n",
    "    uid='1.2.826.0.1.3680043.10.913' +'.'+ '10001' + '.' + seriInstance #str(np.floor(1+np.random.rand()*9))\n",
    "    uid=uid+'.'+'20220416'+'0334123'\n",
    "    \n",
    "    #for index in range(10):\n",
    "    #    uid = uid + str(np.floor(np.random.rand() *10))\n",
    "    return uid\n",
    "def sop_uid():\n",
    "    uid='1.2.826.0.1.3680043.10.913' +'.'+ '10001' + '.' + sopInstance #str(np.floor(1+np.random.rand()*9))\n",
    "    uid=uid+'.'+'20220416'+'0334123'\n",
    "    \n",
    "    #for index in range(10):\n",
    "    #    uid = uid + str(np.floor(np.random.rand() *10))\n",
    "    return uid\n",
    "print(series_uid())\n",
    "#1.2.826.0.1.3680043.10.913 + '.' + '10001' + '.' + '20220416 + 0334123' "
   ],
   "metadata": {
    "collapsed": false,
    "pycharm": {
     "name": "#%%\n"
    }
   }
  },
  {
   "cell_type": "code",
   "execution_count": 12,
   "metadata": {
    "pycharm": {
     "name": "#%%\n"
    }
   },
   "outputs": [
    {
     "name": "stdout",
     "output_type": "stream",
     "text": [
      "0.5971710818464968\n"
     ]
    }
   ],
   "source": [
    "print(np.random.rand())"
   ]
  },
  {
   "cell_type": "code",
   "execution_count": 18,
   "metadata": {
    "pycharm": {
     "name": "#%%\n"
    }
   },
   "outputs": [
    {
     "ename": "NameError",
     "evalue": "name 'patient_img' is not defined",
     "output_type": "error",
     "traceback": [
      "\u001B[1;31m---------------------------------------------------------------------------\u001B[0m",
      "\u001B[1;31mNameError\u001B[0m                                 Traceback (most recent call last)",
      "Input \u001B[1;32mIn [18]\u001B[0m, in \u001B[0;36m<module>\u001B[1;34m\u001B[0m\n\u001B[1;32m----> 1\u001B[0m \u001B[38;5;28;01mfor\u001B[39;00m slice_ \u001B[38;5;129;01min\u001B[39;00m \u001B[38;5;28mrange\u001B[39m(\u001B[43mpatient_img\u001B[49m\u001B[38;5;241m.\u001B[39mshape[\u001B[38;5;241m0\u001B[39m]):\n\u001B[0;32m      2\u001B[0m     \u001B[38;5;66;03m#display_img = normalize(img)\u001B[39;00m\n\u001B[0;32m      3\u001B[0m     \u001B[38;5;66;03m#pixels = get_pixels_hu([slice_])\u001B[39;00m\n\u001B[0;32m      4\u001B[0m     image \u001B[38;5;241m=\u001B[39m patient_img[slice_]\n\u001B[0;32m      5\u001B[0m     \u001B[38;5;66;03m#img = image[0]\u001B[39;00m\n\u001B[0;32m      6\u001B[0m     \u001B[38;5;66;03m#print(img.shape)\u001B[39;00m\n",
      "\u001B[1;31mNameError\u001B[0m: name 'patient_img' is not defined"
     ]
    }
   ],
   "source": [
    "for slice_ in range(patient_img.shape[0]):\n",
    "    #display_img = normalize(img)\n",
    "    #pixels = get_pixels_hu([slice_])\n",
    "    image = patient_img[slice_]\n",
    "    #img = image[0]\n",
    "    #print(img.shape)\n",
    "    ds = Dataset()\n",
    "    ds = slices[0]\n",
    "    if not invert_order:\n",
    "        save_count = image.shape[0] - count\n",
    "    normalized_image = normalize(image[count])\n",
    "    #normalized_image = image\n",
    "    if slice_ in slices_org_num:\n",
    "        for coord in nodules_coord:\n",
    "            if slice_ == coord[2]:\n",
    "                top, left, bottom, right = [coord[1]-15,coord[0]-15,coord[1]+15,coord[0]+15]\n",
    "                #top, left, bottom, right = [211,99,291,158]\n",
    "                thickness = 2\n",
    "                #img_bbox = Image.fromarray((255*normalized_image).astype('uint8'))\n",
    "                img_bbox = Image.fromarray(normalized_image)\n",
    "                img_bbox = img_bbox.convert('RGB')\n",
    "                #rect = Image.new ('RGB', img_bbox.size)\n",
    "                draw = ImageDraw.Draw(img_bbox)\n",
    "                for i in range(thickness):\n",
    "                    draw.rectangle(\n",
    "                        [left + i, top + i, right - i, bottom - i],\n",
    "                        outline=(255,0,0) #transperency 125 (1255)\n",
    "                    )\n",
    "                del draw\n",
    "                #print(slice_)\n",
    "                #img_bbox = Image.alpha_composite(img_bbox,rect)\n",
    "                img_bbox = np.asarray(img_bbox)\n",
    "\n",
    "                # modify DICOM tags\n",
    "                ds.PhotometricInterpretation = 'RGB'\n",
    "                ds.SamplesPerPixel = 3\n",
    "                ds.BitsAllocated = 8\n",
    "                ds.BitsStored = 8\n",
    "                ds.HighBit = 7\n",
    "                ds.SeriesNumber = 50\n",
    "                ds.add_new(0x00280006, 'US', 0)\n",
    "                ds.is_little_endian = True\n",
    "                ds.is_implicit_VR = True\n",
    "                ds.Modality = \"OT\"\n",
    "                ds.SOPInstanceUID = generate_uid()\n",
    "                ds.Rows = HEIGHT\n",
    "                ds.Columns = WIDTH\n",
    "                ds.PixelRepresentation = 0\n",
    "\n",
    "                ds.SOPClassUID = SecondaryCaptureImageStorage\n",
    "                ds.StudyInstanceUID = '1.3.6.1.4.1.14519.5.2.1.6279.6001.101493103577576219860121359500'\n",
    "\n",
    "                ds.fix_meta_info()\n",
    "                #ds.fix_meta_info()\n",
    "\n",
    "                # save pixel data and dicom file\n",
    "                ds.PixelData = encapsulate([ensure_even(img_bbox.tobytes())])\n",
    "                ds.save_as('2022_samples/'+str(slice_)+'.dcm')\n",
    "                #ds = dicom.read_file('dicom_nodules/'+str(slice_)+'.dcm',force=True)\n",
    "                #pixels = get_pixels_hu([ds])\n",
    "                #image = pixels\n",
    "                #img = image[0]\n",
    "    else:\n",
    "        img_bbox = Image.fromarray(normalized_image)\n",
    "        img_bbox = img_bbox.convert('RGB')\n",
    "        img_bbox = np.asarray(img_bbox)\n",
    "\n",
    "        # modify DICOM tags\n",
    "        ds.PhotometricInterpretation = 'RGB'\n",
    "        ds.SamplesPerPixel = 3\n",
    "        ds.BitsAllocated = 8\n",
    "        ds.BitsStored = 8\n",
    "        ds.HighBit = 7\n",
    "        ds.SeriesNumber = 50\n",
    "        ds.is_implicit_VR = True\n",
    "        ds.add_new(0x00280006, 'US', 0)\n",
    "        ds.is_little_endian = True\n",
    "        ds.SOPInstanceUID = generate_uid()\n",
    "        ds.Rows = HEIGHT\n",
    "        ds.Columns = WIDTH\n",
    "        ds.PixelRepresentation = 0\n",
    "        ds.StudyInstanceUID = '1.3.6.1.4.1.14519.5.2.1.6279.6001.101493103577576219860121359500'\n",
    "\n",
    "        ds.SOPClassUID = SecondaryCaptureImageStorage\n",
    "        ds.fix_meta_info()\n",
    "        #ds.fix_meta_info()\n",
    "\n",
    "        # save pixel data and dicom file\n",
    "        ds.PixelData = encapsulate([ensure_even(img_bbox.tobytes())])\n",
    "        ds.save_as('2022_samples/'+str(slice_)+'.dcm')"
   ]
  },
  {
   "cell_type": "code",
   "execution_count": null,
   "metadata": {
    "pycharm": {
     "name": "#%%\n"
    }
   },
   "outputs": [],
   "source": [
    "top, left, bottom, right = [211,99,291,158]\n",
    "thickness = 4\n",
    "img_bbox = Image.fromarray((255*display_img).astype('uint8'))\n",
    "img_bbox = img_bbox.convert('RGB')\n",
    "draw = ImageDraw.Draw(img_bbox)\n",
    "for i in range(thickness):\n",
    "    draw.rectangle(\n",
    "        [left + i, top + i, right - i, bottom - i],\n",
    "        outline=(255,0,0)\n",
    "    )\n",
    "del draw\n",
    "img_bbox = np.asarray(img_bbox)\n",
    "\n",
    "# modify DICOM tags\n",
    "ds.PhotometricInterpretation = 'RGB'\n",
    "ds.SamplesPerPixel = 3\n",
    "ds.BitsAllocated = 8\n",
    "ds.BitsStored = 8\n",
    "ds.HighBit = 7\n",
    "ds.add_new(0x00280006, 'US', 0)\n",
    "ds.is_little_endian = True\n",
    "ds.fix_meta_info()\n",
    "\n",
    "# save pixel data and dicom file\n",
    "ds.PixelData = img_bbox.tobytes()\n",
    "ds.save_as('test.dcm')"
   ]
  },
  {
   "cell_type": "code",
   "execution_count": null,
   "metadata": {
    "collapsed": true,
    "jupyter": {
     "outputs_hidden": true
    },
    "pycharm": {
     "name": "#%%\n"
    }
   },
   "outputs": [],
   "source": [
    "A= np.array([[[ 1.01551435, -0.76494131],\n",
    " [ 0.56853752 , 1.94491724]],\n",
    "[[-0.97433012 , 2.08134198],\n",
    " [-1.34997602 ,-0.33543117]],\n",
    "[[ 0.54217072, -1.33470658],\n",
    " [-0.50179028, -0.66593918]]])\n",
    "B = np.flipud(A)\n",
    "print(A,B)"
   ]
  },
  {
   "cell_type": "code",
   "execution_count": null,
   "metadata": {
    "pycharm": {
     "name": "#%%\n"
    }
   },
   "outputs": [],
   "source": [
    "import copy\n",
    "def filter_nodules(nodule_list, image_shape):\n",
    "    #[annotation_index, p_x_perc, p_y_perc, p_z_perc, nodule_chance,status,nod_id]\n",
    "    #[annotation_index, p_x_perc, p_y_perc, p_z_perc, nodule_chance,status,nod_id]\n",
    "    unique_list = []\n",
    "    output_list = []\n",
    "    for nodule_ in nodule_list:\n",
    "        if nodule_[0] in unique_list:\n",
    "            continue\n",
    "        slice_number = int(round(nodule_[3] * image_shape[0]))\n",
    "        nodule_per_slice = []\n",
    "        for nodule in nodule_list:\n",
    "            if nodule[0] == nodule_[0]:\n",
    "                #print(\"Skip nodule ID: \", nodule[0])\n",
    "                continue\n",
    "            if slice_number == int(round(nodule[3] * image_shape[0])):\n",
    "                nodule_per_slice.append((nodule[0],int(round(nodule[1] * image_shape[1])),int(round(nodule[2] * image_shape[2]))))\n",
    "                #print(\"Append noduel ID: \", nodule[0])\n",
    "        if len(nodule_per_slice) == 0:\n",
    "            \"skip empty list\"\n",
    "            continue\n",
    "        if len(nodule_per_slice) < 1: #controller of the nodules occurance to be expected\n",
    "            #print(\"skip nodule reason: FP\", \"slice number: \", slice_number, \" X_coord: \", nodule_per_slice[0][1], \" Y_coord: \", nodule_per_slice[0][2])\n",
    "            continue\n",
    "        overlapping = []\n",
    "        print(image_shape[0] - slice_number,len(nodule_per_slice))\n",
    "        for coord in nodule_per_slice:\n",
    "            #print(abs(int(round(nodule_[1] * image_shape[1])) - coord[1]), abs(int(round(nodule_[2] * image_shape[2])) - coord[2]))\n",
    "            if abs(int(round(nodule_[1] * image_shape[1])) - coord[1]) < 32 and abs(int(round(nodule_[2] * image_shape[2])) - coord[2]) < 32:\n",
    "                unique_list.append(coord[0])\n",
    "                overlapping.append((coord[1],coord[2]))\n",
    "        if len(overlapping) == 0:\n",
    "            continue\n",
    "        rect_list = []\n",
    "        overlapping.append((abs(int(round(nodule_[1] * image_shape[1]))), abs(int(round(nodule_[2] * image_shape[2])))))\n",
    "        #print(len(overlapping))\n",
    "        print(overlapping)\n",
    "        for nn in overlapping:\n",
    "            rect = box(nn[0]-32,nn[1]-32,nn[0]+32,nn[1]+32)\n",
    "            rect_list.append(rect)\n",
    "\n",
    "            # find intersection of rectangles (probably a more elegant way to do this)\n",
    "        #print(len(rect_list))\n",
    "        rect1 = rect_list[0]\n",
    "        for rect in rect_list[1:]:\n",
    "            rect1 = rect1.intersection(rect)\n",
    "        intersection = rect1\n",
    "        print(image_shape[0] - slice_number,intersection.bounds)\n",
    "        out_x = (intersection.bounds[2] - intersection.bounds[0]) /2 + intersection.bounds[0]\n",
    "        out_y = (intersection.bounds[3] - intersection.bounds[1]) /2 + intersection.bounds[1]\n",
    "        output_list.append([out_x,out_y,slice_number])\n",
    "    output_list_modified = output_list\n",
    "    print(output_list)\n",
    "    for count_1,content in enumerate(output_list):\n",
    "        for count_2, repl in enumerate(output_list[count_1+1:]):\n",
    "            if content[0] == repl[0] and content[1] == repl[1] and abs(content[2] - repl[2]) < 6:\n",
    "                output_list_modified.pop(count_2+count_1+1)\n",
    "    output_list_modified_exten = copy.deepcopy(output_list_modified)\n",
    "    for filtered_nod in output_list_modified:\n",
    "        output_list_modified_exten.append([filtered_nod[0],filtered_nod[1],filtered_nod[2]-1])\n",
    "        output_list_modified_exten.append([filtered_nod[0],filtered_nod[1],filtered_nod[2]-2])\n",
    "        output_list_modified_exten.append([filtered_nod[0],filtered_nod[1],filtered_nod[2]+1])\n",
    "        output_list_modified_exten.append([filtered_nod[0],filtered_nod[1],filtered_nod[2]+2])\n",
    "        #output_list_modified_exten.append([filtered_nod[0],filtered_nod[1],filtered_nod[2]+3])\n",
    "\n",
    "    return output_list_modified_exten\n",
    "post_process_coord = filter_nodules(pred_labels.values,shape_image)\n",
    "print(shape_image)\n",
    "print(post_process_coord)"
   ]
  },
  {
   "cell_type": "code",
   "execution_count": null,
   "metadata": {
    "pycharm": {
     "name": "#%%\n"
    }
   },
   "outputs": [],
   "source": [
    "from shapely.geometry import box\n",
    "\n",
    "# make some rectangles (for demonstration purposes and intersect with each other)\n",
    "rect1 = box(0,0,5,2)\n",
    "rect2 = box(0.5,0.5,3,3)\n",
    "#rect3 = box(1.5,1.5,4,6)\n",
    "#rect3 = box(5,5,8,8)\n",
    "rect_list = [rect1, rect2]\n",
    "\n",
    "# find intersection of rectangles (probably a more elegant way to do this)\n",
    "for rect in rect_list:\n",
    "    rect1 = rect1.intersection(rect)\n",
    "intersection = rect1\n",
    "print(intersection.bounds)"
   ]
  },
  {
   "cell_type": "code",
   "execution_count": null,
   "metadata": {
    "pycharm": {
     "name": "#%%\n"
    }
   },
   "outputs": [],
   "source": [
    "from matplotlib import pyplot as plt\n",
    "from matplotlib.collections import PatchCollection\n",
    "from matplotlib.patches import Polygon\n",
    "\n",
    "# plot the rectangles before and after merging \n",
    "\n",
    "patches  = PatchCollection([Polygon(a.exterior) for a in rect_list], facecolor='red', linewidth=.5, alpha=.5)\n",
    "intersect_patch =  PatchCollection([Polygon(intersection.exterior)], facecolor='red', linewidth=.5, alpha=.5)\n",
    "\n",
    "# make figure\n",
    "fig, ax = plt.subplots(1,2, subplot_kw=dict(aspect='equal'))\n",
    "ax[0].add_collection(patches, autolim=True)\n",
    "ax[0].autoscale_view()\n",
    "ax[0].set_title('separate polygons')\n",
    "ax[1].add_collection(intersect_patch, autolim=True)\n",
    "ax[1].set_title('intersection = single polygon')\n",
    "ax[1].set_xlim(ax[0].get_xlim())\n",
    "ax[1].set_ylim(ax[0].get_ylim())\n",
    "plt.show()"
   ]
  },
  {
   "cell_type": "code",
   "execution_count": null,
   "metadata": {
    "pycharm": {
     "name": "#%%\n"
    }
   },
   "outputs": [],
   "source": [
    "# Coded version of DICOM file '1-242.dcm'\n",
    "# Produced by pydicom codify utility script\n",
    "import pydicom\n",
    "from pydicom.dataset import Dataset, FileMetaDataset\n",
    "from pydicom.sequence import Sequence\n",
    "\n",
    "# File meta info data elements\n",
    "file_meta = FileMetaDataset()\n",
    "file_meta.FileMetaInformationGroupLength = 204\n",
    "file_meta.FileMetaInformationVersion = b'\\x00\\x01'\n",
    "file_meta.MediaStorageSOPClassUID = '1.2.840.10008.5.1.4.1.1.2'\n",
    "file_meta.MediaStorageSOPInstanceUID = '1.3.6.1.4.1.14519.5.2.1.6279.6001.385766156882706341236756622820'\n",
    "file_meta.TransferSyntaxUID = '1.2.840.10008.1.2'\n",
    "file_meta.ImplementationClassUID = '1.3.6.1.4.1.22213.1.143'\n",
    "file_meta.ImplementationVersionName = '0.5'\n",
    "file_meta.SourceApplicationEntityTitle = 'POSDA'\n",
    "\n",
    "# Main data elements\n",
    "ds = Dataset()\n",
    "ds.SpecificCharacterSet = 'ISO_IR 100'\n",
    "ds.ImageType = ['ORIGINAL', 'PRIMARY', 'AXIAL', 'CT_SOM5 SPI']\n",
    "ds.SOPClassUID = '1.2.840.10008.5.1.4.1.1.2'\n",
    "ds.SOPInstanceUID = '1.3.6.1.4.1.14519.5.2.1.6279.6001.385766156882706341236756622820'\n",
    "ds.StudyDate = '20000101'\n",
    "ds.SeriesDate = '20000101'\n",
    "ds.AcquisitionDate = '20000101'\n",
    "ds.ContentDate = '20000101'\n",
    "ds.OverlayDate = '20000101'\n",
    "ds.CurveDate = '20000101'\n",
    "ds.AcquisitionDateTime = '20000101'\n",
    "ds.StudyTime = ''\n",
    "ds.SeriesTime = ''\n",
    "ds.AcquisitionTime = '103245.056638'\n",
    "ds.ContentTime = '103245.056638'\n",
    "ds.AccessionNumber = ''\n",
    "ds.Modality = 'CT'\n",
    "ds.Manufacturer = 'SIEMENS'\n",
    "ds.ReferringPhysicianName = ''\n",
    "ds.SeriesDescription = 'TAA  3.0  B30f'\n",
    "ds.ManufacturerModelName = 'Sensation 64'\n",
    "ds.PatientName = ''\n",
    "ds.PatientID = 'LIDC-IDRI-0086'\n",
    "ds.PatientBirthDate = ''\n",
    "ds.PatientSex = 'M'\n",
    "ds.PatientAge = '074Y'\n",
    "ds.PregnancyStatus = 4\n",
    "ds.LastMenstrualDate = '20000101'\n",
    "ds.PatientIdentityRemoved = 'YES'\n",
    "ds.DeidentificationMethod = 'DCM:113100/113105/113107/113108/113109/113111'\n",
    "ds.ContrastBolusAgent = 'APPLIED'\n",
    "ds.BodyPartExamined = 'CHEST'\n",
    "ds.SliceThickness = '3.0'\n",
    "ds.KVP = '120.0'\n",
    "ds.DataCollectionDiameter = '500.0'\n",
    "ds.SoftwareVersions = 'syngo CT 2006A'\n",
    "ds.ContrastBolusVolume = '0.0'\n",
    "ds.ContrastFlowRate = '0.0'\n",
    "ds.ContrastFlowDuration = '0.0'\n",
    "ds.ContrastBolusIngredientConcentration = '0.0'\n",
    "ds.ReconstructionDiameter = '379.0'\n",
    "ds.DistanceSourceToDetector = '1040.0'\n",
    "ds.DistanceSourceToPatient = '570.0'\n",
    "ds.GantryDetectorTilt = '0.0'\n",
    "ds.TableHeight = '171.0'\n",
    "ds.RotationDirection = 'CW'\n",
    "ds.ExposureTime = '330'\n",
    "ds.XRayTubeCurrent = '532'\n",
    "ds.Exposure = '351'\n",
    "ds.FilterType = '0'\n",
    "ds.GeneratorPower = '44'\n",
    "ds.FocalSpots = '1.2'\n",
    "ds.DateOfLastCalibration = ''\n",
    "ds.TimeOfLastCalibration = ''\n",
    "ds.ConvolutionKernel = 'B30f'\n",
    "ds.PatientPosition = 'FFS'\n",
    "ds.StudyInstanceUID = '1.3.6.1.4.1.14519.5.2.1.6279.6001.442836465012574652961690947717'\n",
    "ds.SeriesInstanceUID = '1.3.6.1.4.1.14519.5.2.1.6279.6001.145580766024236783540879444879'\n",
    "ds.StudyID = ''\n",
    "ds.SeriesNumber = '5604'\n",
    "ds.AcquisitionNumber = '8'\n",
    "ds.InstanceNumber = '242'\n",
    "ds.ImagePositionPatient = [-188.1298828125, -360.1298828125, -417]\n",
    "ds.ImageOrientationPatient = [1, 0, 0, 0, 1, 0]\n",
    "ds.FrameOfReferenceUID = '1.3.6.1.4.1.14519.5.2.1.6279.6001.315442562659310695946166677985'\n",
    "ds.PositionReferenceIndicator = ''\n",
    "ds.SliceLocation = '417.0'\n",
    "ds.NumberOfStudyRelatedInstances = '250'\n",
    "ds.SamplesPerPixel = 1\n",
    "ds.PhotometricInterpretation = 'MONOCHROME2'\n",
    "ds.Rows = 512\n",
    "ds.Columns = 512\n",
    "ds.PixelSpacing = [0.740234375, 0.740234375]\n",
    "ds.BitsAllocated = 16\n",
    "ds.BitsStored = 12\n",
    "ds.HighBit = 11\n",
    "ds.PixelRepresentation = 0\n",
    "ds.SmallestImagePixelValue = 0\n",
    "ds.LargestImagePixelValue = 2713\n",
    "ds.LongitudinalTemporalInformationModified = 'MODIFIED'\n",
    "ds.WindowCenter = [40, -500]\n",
    "ds.WindowWidth = [400, 2000]\n",
    "ds.RescaleIntercept = '-1024.0'\n",
    "ds.RescaleSlope = '1.0'\n",
    "ds.WindowCenterWidthExplanation = ['WINDOW1', 'WINDOW2']\n",
    "ds.RequestedProcedureDescription = ''\n",
    "ds.AdmittingDate = '20000101'\n",
    "ds.ScheduledProcedureStepStartDate = '20000101'\n",
    "ds.ScheduledProcedureStepEndDate = '20000101'\n",
    "ds.PerformedProcedureStepStartDate = '20000101'\n",
    "\n",
    "# Request Attributes Sequence\n",
    "request_attributes_sequence = Sequence()\n",
    "ds.RequestAttributesSequence = request_attributes_sequence\n",
    "\n",
    "# Request Attributes Sequence: Request Attributes 1\n",
    "request_attributes1 = Dataset()\n",
    "request_attributes1.ScheduledProcedureStepDescription = 'CT, CHEST, W CONTRAST'\n",
    "request_attributes1.ScheduledProcedureStepID = '9822700300009440'\n",
    "request_attributes1.RequestedProcedureID = '9822700300009440'\n",
    "request_attributes_sequence.append(request_attributes1)\n",
    "\n",
    "ds.PlacerOrderNumberImagingServiceRequest = ''\n",
    "ds.FillerOrderNumberImagingServiceRequest = ''\n",
    "ds.VerifyingObserverName = 'Removed by CTP'\n",
    "ds.PersonName = 'Removed by CTP'\n",
    "ds.ContentCreatorName = ''\n",
    "ds.PixelData = # XXX Array of 524288 bytes excluded\n",
    "\n",
    "ds.file_meta = file_meta\n",
    "ds.is_implicit_VR = True\n",
    "ds.is_little_endian = True\n",
    "ds.save_as(r'1-242_from_codify.dcm', write_like_original=False)"
   ]
  },
  {
   "cell_type": "code",
   "execution_count": null,
   "metadata": {
    "pycharm": {
     "name": "#%%\n"
    }
   },
   "outputs": [],
   "source": [
    "dicom.codify('./1.3.6.1.4.1.14519.5.2.1.6279.6001.178391668569567816549737454720/dicom_nodules/1.dcm')"
   ]
  },
  {
   "cell_type": "code",
   "execution_count": null,
   "metadata": {
    "pycharm": {
     "name": "#%%\n"
    }
   },
   "outputs": [],
   "source": []
  }
 ],
 "metadata": {
  "kernelspec": {
   "display_name": "Python 3 (ipykernel)",
   "language": "python",
   "name": "python3"
  },
  "language_info": {
   "codemirror_mode": {
    "name": "ipython",
    "version": 3
   },
   "file_extension": ".py",
   "mimetype": "text/x-python",
   "name": "python",
   "nbconvert_exporter": "python",
   "pygments_lexer": "ipython3",
   "version": "3.9.10"
  }
 },
 "nbformat": 4,
 "nbformat_minor": 4
}